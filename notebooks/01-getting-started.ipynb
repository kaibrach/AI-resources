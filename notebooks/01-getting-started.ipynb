{
  "cells": [
    {
      "cell_type": "markdown",
      "metadata": {
        "id": "7ToWZJf4zkqR"
      },
      "source": [
        "# Evaluate LLMs a practical example using Langchain\n",
        "\n",
        "The rise of generative AI and LLMs like GPT-4, Llama or Claude enables a new era of AI drive applications and use cases. However, evaluating these models remains an open challenge. Academic benchmarks can no longer always be applied to generative models since the correct or most helpful answer can be formulated in different ways, which would give limited insight into real-world performance.\n",
        "\n",
        "**So, how can we evaluate the performance of LLMs if previous methods are not long valid?**\n",
        "\n",
        "Two main approaches show promising results for evaluating LLMs: leveraging human evaluations and using LLMs themselves as judges.\n",
        "\n",
        "Human evaluation provides the most natural measure of quality but does not scale well. Crowdsourcing services can be used to collect human assessments on dimensions like relevance, fluency, and harmfulness. However, this process is relatively slow and costly.\n",
        "\n",
        "Recent research has proposed using LLMs themselves as judges to evaluate other LLMs, an approach called [LLM-as-a-judge](https://arxiv.org/abs/2306.05685) demonstrates that large LLMs like GPT-4 can match human preferences with over 80% agreement when evaluating conversational chatbots.\n",
        "\n",
        "In this blog post, we look at a hands-on example of how to evaluate LLMs:\n",
        "\n",
        "- Criteria-based evaluation, such as helpfulness, relevance, or harmfulness\n",
        "- RAG evaluation, whether our model correctly uses the provided context to answer\n",
        "- Pairwise comparison, to explore whether we can generate AI feedback for RLAIF\n",
        "\n",
        "We are going to use the [meta-llama/Llama-2-70b-chat-hf](https://huggingface.co/meta-llama/Llama-2-70b-chat-hf) hosted through Hugging Face Inference API as the LLM we evaluate with the `huggingface_hub` library.\n",
        "\n",
        "As \"evaluator\" we are going to use `GPT-4`. You can use any supported `llm` of langchain to evaluate your models. If you are sticking with `GPT-4` make sure the environment variable `OPENAI_API_KEY` is set and valid."
      ]
    },
    {
      "cell_type": "code",
      "execution_count": 4,
      "metadata": {
        "id": "2Naxj5lDzkqT",
        "outputId": "3182bf6d-8249-467f-b37e-b789656fcecb",
        "colab": {
          "base_uri": "https://localhost:8080/"
        }
      },
      "outputs": [
        {
          "output_type": "stream",
          "name": "stdout",
          "text": [
            "\u001b[?25l     \u001b[90m━━━━━━━━━━━━━━━━━━━━━━━━━━━━━━━━━━━━━━━━\u001b[0m \u001b[32m0.0/2.1 MB\u001b[0m \u001b[31m?\u001b[0m eta \u001b[36m-:--:--\u001b[0m\r\u001b[2K     \u001b[91m━━━\u001b[0m\u001b[91m╸\u001b[0m\u001b[90m━━━━━━━━━━━━━━━━━━━━━━━━━━━━━━━━━━━━\u001b[0m \u001b[32m0.2/2.1 MB\u001b[0m \u001b[31m5.9 MB/s\u001b[0m eta \u001b[36m0:00:01\u001b[0m\r\u001b[2K     \u001b[91m━━━━━━━━━━━━━━━━━━━━━━━━━━━━━━━━\u001b[0m\u001b[90m╺\u001b[0m\u001b[90m━━━━━━━\u001b[0m \u001b[32m1.7/2.1 MB\u001b[0m \u001b[31m25.2 MB/s\u001b[0m eta \u001b[36m0:00:01\u001b[0m\r\u001b[2K     \u001b[91m━━━━━━━━━━━━━━━━━━━━━━━━━━━━━━━━━━━━━━━\u001b[0m\u001b[91m╸\u001b[0m \u001b[32m2.1/2.1 MB\u001b[0m \u001b[31m25.7 MB/s\u001b[0m eta \u001b[36m0:00:01\u001b[0m\r\u001b[2K     \u001b[90m━━━━━━━━━━━━━━━━━━━━━━━━━━━━━━━━━━━━━━━━\u001b[0m \u001b[32m2.1/2.1 MB\u001b[0m \u001b[31m16.3 MB/s\u001b[0m eta \u001b[36m0:00:00\u001b[0m\n",
            "\u001b[?25h"
          ]
        }
      ],
      "source": [
        "!pip install huggingface_hub langchain langchain-community langchain-core transformers --upgrade --quiet"
      ]
    },
    {
      "cell_type": "markdown",
      "metadata": {
        "id": "RVJcim-KzkqU"
      },
      "source": [
        "*Note: You need a `PRO` subscription on [huggingface.co](http://huggingface.co) to use Llama 70B Chat via the API.*"
      ]
    },
    {
      "cell_type": "code",
      "execution_count": 9,
      "metadata": {
        "id": "EwelUvcDzkqU",
        "outputId": "fea1e7c4-8a12-475a-b0ea-7b00fb986c0f",
        "colab": {
          "base_uri": "https://localhost:8080/",
          "height": 425,
          "referenced_widgets": [
            "fd1b2476ba7942dd9793dd9d4d4bff69",
            "5e30c1655d954271b9182da1b966f2a1",
            "7548257beb6445c7990adfbe27411a05",
            "bae3c01ea47d4a74a6f97a17e5896a8a",
            "08326d7e499041f681f249c3741bbfe0",
            "a1f989bbec0943048eeab23844ce7b49",
            "3d6c4ae13bad4103b3d0ecd0180dfa9e",
            "dbbbf4dcfb5a4e8885dc80b4b30e06bc",
            "76f7a2d3c8ef481983b26efb1e9ddc50",
            "2b3e76105e62432b8f9eefb4f7b5597d",
            "1035c2129a0446d78b4b74c505590731",
            "1443ca60aa3043f4b518941289b74fab",
            "3b512cd7fb7f42d3ae5939453d555f01",
            "0c38eb41a3464e7eb3689cf8d2ad2124",
            "035b1fb7ae2143cda3de5b3c52593e2d",
            "12fdead8fcc545f89c153a1b0a6e4ed9",
            "102c83ab8c1f4910bf25d0b9f05bed8d",
            "65d169a0e29e4f88b7a2dbddc0adbc79",
            "0e0e62371b6e42cc9111a5767762d590",
            "a79b4415f2e34ddfad8946c3d9137d20",
            "bbf19f08de444d4db3e5be609a17954b",
            "bf7e632a091e49eda392be7a81e7d7af",
            "64df40b963ca4d6bb7015a893960cfb2",
            "138bb5205bec4d629f57016ac86a29c7",
            "fdcc5db306c249f3b2beea0e7d3ad695",
            "044c6e3baf1b4a1aaf391911ee0ac20f",
            "f7b20bba9462466f982721a4c6375662",
            "9cf9a091b31e4425ace08ef47361daf9",
            "131ae81a70b245ada8580df7270364f3",
            "52c3d3dfc9ea4df4b20cf2416475d38b",
            "e6654aa1a01347c78a1814d5e7ff562d",
            "082acf11e1fe4884a3a348f338945317",
            "62e8e811a2784efbb2f49aaa78851fbf",
            "51f9f597ce0b4cc99ab5d3c8efb523e3",
            "9a224545b8cb4df18f9cdf8bb35ab02f",
            "3821721c8624448480d00a9064e83a11",
            "3c7a8432b7ba4927a0282a9490c7f6ed",
            "00d93c141611406c9116c3d1cda1d23f",
            "18a322baca244c8abc867993a685725f",
            "bf71f26e908b43c380c045d9661f7d4a",
            "2a4a9afc3e824b41b1787dd0f4663005",
            "a6538aeff8804ac28e500c2dba72d345",
            "c64aa3120bd8459781974616df7ca5bb",
            "802a0802cd0e4f3bb984319b9b4744ad"
          ]
        }
      },
      "outputs": [
        {
          "output_type": "stream",
          "name": "stdout",
          "text": [
            "Huggingface Token··········\n",
            "The token has not been saved to the git credentials helper. Pass `add_to_git_credential=True` in this function directly or `--add-to-git-credential` if using via `huggingface-cli` if you want to set the git credential as well.\n",
            "Token is valid (permission: read).\n",
            "Your token has been saved to /root/.cache/huggingface/token\n",
            "Login successful\n"
          ]
        },
        {
          "output_type": "display_data",
          "data": {
            "text/plain": [
              "tokenizer_config.json:   0%|          | 0.00/1.46k [00:00<?, ?B/s]"
            ],
            "application/vnd.jupyter.widget-view+json": {
              "version_major": 2,
              "version_minor": 0,
              "model_id": "fd1b2476ba7942dd9793dd9d4d4bff69"
            }
          },
          "metadata": {}
        },
        {
          "output_type": "display_data",
          "data": {
            "text/plain": [
              "tokenizer.model:   0%|          | 0.00/493k [00:00<?, ?B/s]"
            ],
            "application/vnd.jupyter.widget-view+json": {
              "version_major": 2,
              "version_minor": 0,
              "model_id": "1443ca60aa3043f4b518941289b74fab"
            }
          },
          "metadata": {}
        },
        {
          "output_type": "display_data",
          "data": {
            "text/plain": [
              "tokenizer.json:   0%|          | 0.00/1.80M [00:00<?, ?B/s]"
            ],
            "application/vnd.jupyter.widget-view+json": {
              "version_major": 2,
              "version_minor": 0,
              "model_id": "64df40b963ca4d6bb7015a893960cfb2"
            }
          },
          "metadata": {}
        },
        {
          "output_type": "display_data",
          "data": {
            "text/plain": [
              "special_tokens_map.json:   0%|          | 0.00/72.0 [00:00<?, ?B/s]"
            ],
            "application/vnd.jupyter.widget-view+json": {
              "version_major": 2,
              "version_minor": 0,
              "model_id": "51f9f597ce0b4cc99ab5d3c8efb523e3"
            }
          },
          "metadata": {}
        },
        {
          "output_type": "error",
          "ename": "AssertionError",
          "evalue": "",
          "traceback": [
            "\u001b[0;31m---------------------------------------------------------------------------\u001b[0m",
            "\u001b[0;31mAssertionError\u001b[0m                            Traceback (most recent call last)",
            "\u001b[0;32m<ipython-input-9-3ce93ccdb623>\u001b[0m in \u001b[0;36m<cell line: 35>\u001b[0;34m()\u001b[0m\n\u001b[1;32m     33\u001b[0m \u001b[0;34m\u001b[0m\u001b[0m\n\u001b[1;32m     34\u001b[0m \u001b[0;31m# test client\u001b[0m\u001b[0;34m\u001b[0m\u001b[0;34m\u001b[0m\u001b[0m\n\u001b[0;32m---> 35\u001b[0;31m \u001b[0;32massert\u001b[0m \u001b[0mgenerate\u001b[0m\u001b[0;34m(\u001b[0m\u001b[0;34m\"What is 2+2?\"\u001b[0m\u001b[0;34m)\u001b[0m \u001b[0;34m==\u001b[0m \u001b[0;34m\"The answer to 2+2 is 4.\"\u001b[0m\u001b[0;34m\u001b[0m\u001b[0;34m\u001b[0m\u001b[0m\n\u001b[0m\u001b[1;32m     36\u001b[0m \u001b[0;34m\u001b[0m\u001b[0m\n\u001b[1;32m     37\u001b[0m \u001b[0;31m# create evaluator\u001b[0m\u001b[0;34m\u001b[0m\u001b[0;34m\u001b[0m\u001b[0m\n",
            "\u001b[0;31mAssertionError\u001b[0m: "
          ]
        }
      ],
      "source": [
        "import os\n",
        "from huggingface_hub import InferenceClient, login\n",
        "from transformers import AutoTokenizer\n",
        "from langchain.chat_models import ChatOpenAI\n",
        "from getpass import getpass\n",
        "\n",
        "\n",
        "\n",
        "\n",
        "# access token with permission to access the model and PRO subscription\n",
        "hf_token = getpass(\"Huggingface Token\") # https://huggingface.co/settings/tokens\n",
        "login(token=hf_token)\n",
        "\n",
        "# tokenizer for generating prompt\n",
        "tokenizer = AutoTokenizer.from_pretrained(\"mistralai/Mixtral-8x7B-Instruct-v0.1\")\n",
        "\n",
        "# inference client\n",
        "client = InferenceClient(\"https://api-inference.huggingface.co/models/mistralai/Mixtral-8x7B-Instruct-v0.1\")\n",
        "\n",
        "# generate function\n",
        "def generate(text):\n",
        "    payload = tokenizer.apply_chat_template([{\"role\":\"user\",\"content\":text}],tokenize=False)\n",
        "    res = client.text_generation(\n",
        "                    payload,\n",
        "                    do_sample=True,\n",
        "                    return_full_text=False,\n",
        "                    max_new_tokens=2048,\n",
        "                    top_p=0.9,\n",
        "                    temperature=0.6,\n",
        "                )\n",
        "    return res.strip()\n",
        "\n",
        "\n",
        "# test client\n",
        "assert generate(\"What is 2+2?\") == \"The answer to 2+2 is 4.\"\n",
        "\n",
        "# create evaluator\n",
        "os.environ[\"OPENAI_API_KEY\"] = \"YOUR_OPENAI_API_KEY\" # https://platform.openai.com/account/api-keys\n",
        "assert os.environ.get(\"OPENAI_API_KEY\") is not None, \"Please set OPENAI_API_KEY environment variable\"\n",
        "\n",
        "evaluation_llm = ChatOpenAI(model=\"gpt-4\")"
      ]
    },
    {
      "cell_type": "markdown",
      "metadata": {
        "id": "ef5hX-JDzkqU"
      },
      "source": [
        "## Criteria-based evaluation\n",
        "\n",
        "Criteria-based evaluation can be useful when you want to measure an LLM's performance on specific attributes rather than relying on a single metric. It provides fine-grained, interpretable scores on conciseness, helpfulness, harmfulness, or custom criteria definitions. We are going to evaluate the output of the following prompt:\n",
        "\n",
        "- conciseness of the generation\n",
        "- correctness using an additional reference\n",
        "- custom criteria whether it is explained for a 5-year-old."
      ]
    },
    {
      "cell_type": "code",
      "execution_count": null,
      "metadata": {
        "id": "wfJ2EAsdzkqU"
      },
      "outputs": [],
      "source": [
        "prompt = \"Who is the current president of United States?\""
      ]
    },
    {
      "cell_type": "markdown",
      "metadata": {
        "id": "_t9WXljPzkqV"
      },
      "source": [
        "Lets first take a look on what the model generates for the prompt:"
      ]
    },
    {
      "cell_type": "code",
      "execution_count": null,
      "metadata": {
        "id": "_C1fBUW7zkqV"
      },
      "outputs": [],
      "source": [
        "pred = generate(prompt)\n",
        "print(pred)"
      ]
    },
    {
      "cell_type": "markdown",
      "metadata": {
        "id": "GdwZFDVFzkqV"
      },
      "source": [
        "Looks correct to me!\n",
        "\n",
        "The criteria evaluator returns a dictionary with the following values:\n",
        "\n",
        "`score`: Binary integer 0 to 1, where 1 would mean that the output is compliant with the criteria, and 0 otherwise  \n",
        "`value`: A \"Y\" or \"N\" corresponding to the score  \n",
        "`reasoning`: String \"chain of thought reasoning\" from the LLM generated prior to creating the score  \n",
        "\n",
        "\n",
        "If you want to learn more about the criteria-based evaluation, check out the [documentation](https://python.langchain.com/docs/guides/evaluation/string/criteria_eval_chain)."
      ]
    },
    {
      "cell_type": "markdown",
      "metadata": {
        "id": "vFCzchZ5zkqW"
      },
      "source": [
        "### Conciseness evaluation\n",
        "\n",
        "Conciseness is a evaluation criteria that measures if the the submission concise and to the point."
      ]
    },
    {
      "cell_type": "code",
      "execution_count": null,
      "metadata": {
        "id": "L2aFA6MFzkqW"
      },
      "outputs": [],
      "source": [
        "from langchain.evaluation import load_evaluator\n",
        "from pprint import pprint as print\n",
        "\n",
        "# create evaluator\n",
        "evaluator = load_evaluator(\"criteria\", criteria=\"conciseness\", llm=evaluation_llm)\n",
        "\n",
        "# evaluate\n",
        "eval_result = evaluator.evaluate_strings(\n",
        "    prediction=pred,\n",
        "    input=prompt,\n",
        ")\n",
        "\n",
        "# print result\n",
        "print(eval_result)\n"
      ]
    },
    {
      "cell_type": "markdown",
      "metadata": {
        "id": "L7A3_vGyzkqW"
      },
      "source": [
        "If I would have to asses the reasoning of GPT-4 i would agree with its reasoning. The most concise answer would be \"Joe Biden\"."
      ]
    },
    {
      "cell_type": "markdown",
      "metadata": {
        "id": "Fk-qT2Y6zkqW"
      },
      "source": [
        "### Correctness using an additional reference\n",
        "\n",
        "We can evaluate our generation based on correctness, which would relly on the internal knowledge of the LLM. This might not be the best approach since we are not sure if the LLM has the correct knowledge. To make sure we create our evaluator with `requires_reference=True` to use an additional reference to evaluate the correctness of the generation.\n",
        "\n",
        "As reference we use the following text: _\"The new and 47th president of the United States is Philipp Schmid.\"_ This is obviously wrong, but we want to see if the evaluation LLM values the reference over the internal knowledge."
      ]
    },
    {
      "cell_type": "code",
      "execution_count": null,
      "metadata": {
        "id": "KamP5E6kzkqW"
      },
      "outputs": [],
      "source": [
        "from langchain.evaluation import load_evaluator\n",
        "from pprint import pprint as print\n",
        "\n",
        "# create evaluator\n",
        "evaluator = load_evaluator(\"labeled_criteria\", criteria=\"correctness\", llm=evaluation_llm,requires_reference=True)\n",
        "\n",
        "# evaluate\n",
        "eval_result = evaluator.evaluate_strings(\n",
        "    prediction=pred,\n",
        "    input=prompt,\n",
        "    reference=\"The new and 47th president of the United States is Philipp Schmid.\"\n",
        ")\n",
        "\n",
        "# print result\n",
        "print(eval_result)"
      ]
    },
    {
      "cell_type": "markdown",
      "metadata": {
        "id": "FaEN6VDXzkqW"
      },
      "source": [
        "Nice! It worked as expected. The LLM evaluated the generation as incorrect based on the reference, saying _\"There is a discrepancy between the submission and the reference\"_."
      ]
    },
    {
      "cell_type": "markdown",
      "metadata": {
        "id": "OAj-fljEzkqW"
      },
      "source": [
        "### Custom criteria whether it is explained for a 5-year-old.\n",
        "\n",
        "Langchain allows you to define custom criteria to evaluate your generations. In this example we want to evaluate if the generation is explained for a 5-year-old. We define the criteria as follows:"
      ]
    },
    {
      "cell_type": "code",
      "execution_count": null,
      "metadata": {
        "id": "XRAgJiv3zkqW"
      },
      "outputs": [],
      "source": [
        "from langchain.evaluation import load_evaluator\n",
        "from pprint import pprint as print\n",
        "\n",
        "# custom eli5 criteria\n",
        "custom_criterion = {\"eli5\": \"Is the output explained in a way that a 5 yeard old would unterstand it?\"}\n",
        "\n",
        "# create evaluator\n",
        "evaluator = load_evaluator(\"criteria\", criteria=custom_criterion, llm=evaluation_llm)\n",
        "\n",
        "# evaluate\n",
        "eval_result = evaluator.evaluate_strings(\n",
        "    prediction=pred,\n",
        "    input=prompt,\n",
        ")\n",
        "\n",
        "# print result\n",
        "print(eval_result)"
      ]
    },
    {
      "cell_type": "markdown",
      "metadata": {
        "id": "f_QuDD9-zkqX"
      },
      "source": [
        "The explanation of `GPT-4` in the `reasoning` with that a 5-year-old might not understand what a \"four year term\" is can make sense, but could also be the other way around. Since this is only a example of how to define custom criteria, we leave it as it is."
      ]
    },
    {
      "cell_type": "markdown",
      "metadata": {
        "id": "UaBaGLlOzkqX"
      },
      "source": [
        "## Retrival Augmented Generation (RAG) evaluation\n",
        "\n",
        "Retrieval Augmented Generation (RAG) is one of the most popular use cases for LLMs, but it is also one of the most difficult to evaluate. We want RAG models to use the provided context to correctly answer a question, write a summary, or generate a response. This is a challenging task for LLMs, and it is difficult to evaluate whether the model is using the context correctly.\n",
        "\n",
        "Langchain has a handy `ContextQAEvalChain` class that allows you to evaluate your RAG models. It takes a `context` and a `question` as well as a `prediction` and a `reference` to evaluate the correctness of the generation. The evaluator returns a dictionary with the following values:\n",
        "\n",
        "`reasoning`: String \"chain of thought reasoning\" from the LLM generated prior to creating the score    \n",
        "`score`: Binary integer 0 to 1, where 1 would mean that the output is correct, and 0 otherwise  \n",
        "`value`: A \"CORRECT\" or \"INCORRECT\" corresponding to the score    \n"
      ]
    },
    {
      "cell_type": "code",
      "execution_count": null,
      "metadata": {
        "id": "gKXBXAaOzkqX"
      },
      "outputs": [],
      "source": [
        "question = \"How many people are living in Nuremberg?\"\n",
        "context=\"Nuremberg is the second-largest city of the German state of Bavaria after its capital Munich, and its 541,000 inhabitants make it the 14th-largest city in Germany. On the Pegnitz River (from its confluence with the Rednitz in Fürth onwards: Regnitz, a tributary of the River Main) and the Rhine–Main–Danube Canal, it lies in the Bavarian administrative region of Middle Franconia, and is the largest city and the unofficial capital of Franconia. Nuremberg forms with the neighbouring cities of Fürth, Erlangen and Schwabach a continuous conurbation with a total population of 812,248 (2022), which is the heart of the urban area region with around 1.4 million inhabitants,[4] while the larger Nuremberg Metropolitan Region has approximately 3.6 million inhabitants. The city lies about 170 kilometres (110 mi) north of Munich. It is the largest city in the East Franconian dialect area.\"\n",
        "\n",
        "prompt = f\"\"\"Use the following pieces of context to answer the question at the end. If you don't know the answer, just say that you don't know, don't try to make up an answer.\n",
        "\n",
        "{context}\n",
        "\n",
        "Question: {question}\"\"\"\n",
        "\n",
        "pred = generate(prompt)\n",
        "print(pred)"
      ]
    },
    {
      "cell_type": "markdown",
      "metadata": {
        "id": "aPCgAUavzkqX"
      },
      "source": [
        "Looks good! we can also quickly test how llama would respond with out the context"
      ]
    },
    {
      "cell_type": "code",
      "execution_count": null,
      "metadata": {
        "id": "ZaMPGNDrzkqX"
      },
      "outputs": [],
      "source": [
        "false_pred = generate(question)\n",
        "print(false_pred)"
      ]
    },
    {
      "cell_type": "markdown",
      "metadata": {
        "id": "1X1XTZKQzkqX"
      },
      "source": [
        "As we can see without the context the generation is incorrect. Now lets see if our evaluator can detect that as well. As reference we will use the raw number with `541,000`."
      ]
    },
    {
      "cell_type": "code",
      "execution_count": null,
      "metadata": {
        "id": "Za6tVcLRzkqX"
      },
      "outputs": [],
      "source": [
        "from langchain.evaluation import load_evaluator\n",
        "from pprint import pprint as print\n",
        "\n",
        "# create evaluator\n",
        "evaluator = load_evaluator(\"context_qa\", llm=evaluation_llm)\n",
        "\n",
        "# evaluate\n",
        "eval_result = evaluator.evaluate_strings(\n",
        "  input=question,\n",
        "  prediction=pred,\n",
        "  context=context,\n",
        "  reference=\"541,000\"\n",
        ")\n",
        "\n",
        "# print result\n",
        "print(eval_result)"
      ]
    },
    {
      "cell_type": "markdown",
      "metadata": {
        "id": "-qpcFUOPzkqX"
      },
      "source": [
        "Nice! It worked as expected. The LLM evaluated the generation as correct. Lets now test what happens if we provide a wrong prediction."
      ]
    },
    {
      "cell_type": "code",
      "execution_count": null,
      "metadata": {
        "id": "_I8tpcQOzkqX"
      },
      "outputs": [],
      "source": [
        "# evaluate\n",
        "eval_result = evaluator.evaluate_strings(\n",
        "  input=question,\n",
        "  prediction=false_pred,\n",
        "  context=context,\n",
        "  reference=\"541,000\"\n",
        ")\n",
        "\n",
        "# print result\n",
        "print(eval_result)"
      ]
    },
    {
      "cell_type": "markdown",
      "metadata": {
        "id": "eQIXo3UAzkqY"
      },
      "source": [
        "Awesome! The evaluator detected that the generation is incorrect.\n",
        "\n",
        "Alternatively, if you are not having a reference you can reuse the `criteria` evaluator to evaluate the correctness using the \"question\" as input and the \"context\" as reference."
      ]
    },
    {
      "cell_type": "code",
      "execution_count": null,
      "metadata": {
        "id": "xQpNdTu0zkqY"
      },
      "outputs": [],
      "source": [
        "from langchain.evaluation import load_evaluator\n",
        "from pprint import pprint as print\n",
        "\n",
        "# create evaluator\n",
        "evaluator = load_evaluator(\"labeled_criteria\", criteria=\"correctness\", llm=evaluation_llm, requires_reference=True)\n",
        "\n",
        "# evaluate\n",
        "eval_result = evaluator.evaluate_strings(\n",
        "    prediction=pred,\n",
        "    input=question,\n",
        "    reference=context,\n",
        ")\n",
        "\n",
        "# print result\n",
        "print(eval_result)"
      ]
    },
    {
      "cell_type": "markdown",
      "metadata": {
        "id": "TIetIU0UzkqY"
      },
      "source": [
        "As we can see GPT-4 correctly reasoned that the generation is correct based on the provided context."
      ]
    },
    {
      "cell_type": "markdown",
      "metadata": {
        "id": "jw5_BHgUzkqY"
      },
      "source": [
        "## Pairwise comparison and scoring\n",
        "\n",
        "Pairwise comparison or Scoring is a method for evaluating LLMs that asks the model to choose between two generations or generate scores for the quality. Those methods are useful for evaluating whether a model can generate a better response than another/previous model.\n",
        "This can also be used to generate preference data or AI Feedback for RLAIF or DPO.\n",
        "\n",
        "Lets first look at the pairwise comparison. Here for we generate first two generations and then ask the LLM to choose between them.\n"
      ]
    },
    {
      "cell_type": "code",
      "execution_count": null,
      "metadata": {
        "id": "scOMQ1-VzkqY"
      },
      "outputs": [],
      "source": [
        "prompt = \"Write a short email to your boss about the meeting tomorrow.\"\n",
        "pred_a = generate(prompt)\n",
        "\n",
        "prompt = \"Write a short email to your boss about the meeting tomorrow\" # remove the period to not use cached results\n",
        "pred_b = generate(prompt)\n",
        "\n",
        "assert pred_a != pred_b"
      ]
    },
    {
      "cell_type": "markdown",
      "metadata": {
        "id": "6abHqIv9zkqY"
      },
      "source": [
        "Now, lets use our LLM to select its preferred generation."
      ]
    },
    {
      "cell_type": "code",
      "execution_count": null,
      "metadata": {
        "id": "8FAHuNmuzkqY"
      },
      "outputs": [],
      "source": [
        "from langchain.evaluation import load_evaluator\n",
        "from pprint import pprint as print\n",
        "\n",
        "# create evaluator\n",
        "evaluator = load_evaluator(\"pairwise_string\", llm=evaluation_llm)\n",
        "\n",
        "# evaluate\n",
        "eval_result = evaluator.evaluate_string_pairs(\n",
        "    prediction=pred_a,\n",
        "    prediction_b=pred_b,\n",
        "    input=prompt,\n",
        ")\n",
        "\n",
        "# print result\n",
        "print(eval_result)"
      ]
    },
    {
      "cell_type": "markdown",
      "metadata": {
        "id": "ckbe9n5szkqY"
      },
      "source": [
        "The LLM selected the second generation as the preferred one, we could now use this information to generate AI Feedback for RLAIF or DPO. As next we want to look a bit more in detail into our two generation and how they would be scored. Scoring can help us to more qualitative evaluate our generations.\n"
      ]
    },
    {
      "cell_type": "code",
      "execution_count": null,
      "metadata": {
        "id": "gDdDQw6JzkqY"
      },
      "outputs": [],
      "source": [
        "from langchain.evaluation import load_evaluator\n",
        "from pprint import pprint as print\n",
        "\n",
        "# create evaluator\n",
        "evaluator = load_evaluator(\"score_string\", llm=evaluation_llm)\n",
        "\n",
        "# evaluate\n",
        "eval_result_a = evaluator.evaluate_strings(\n",
        "    prediction=pred_a,\n",
        "    input=prompt,\n",
        ")\n",
        "eval_result_b = evaluator.evaluate_strings(\n",
        "    prediction=pred_b,\n",
        "    input=prompt,\n",
        ")\n",
        "\n",
        "\n",
        "# print result\n",
        "print(f\"Score A: {eval_result_a['score']}\")\n",
        "print(f\"Score B: {eval_result_b['score']}\")"
      ]
    },
    {
      "cell_type": "code",
      "execution_count": null,
      "metadata": {
        "id": "2sq6S5oOzkqY"
      },
      "outputs": [],
      "source": []
    }
  ],
  "metadata": {
    "kernelspec": {
      "display_name": "Python 3",
      "name": "python3"
    },
    "language_info": {
      "codemirror_mode": {
        "name": "ipython",
        "version": 3
      },
      "file_extension": ".py",
      "mimetype": "text/x-python",
      "name": "python",
      "nbconvert_exporter": "python",
      "pygments_lexer": "ipython3",
      "version": "3.8.12"
    },
    "colab": {
      "provenance": [],
      "gpuType": "T4"
    },
    "accelerator": "GPU",
    "widgets": {
      "application/vnd.jupyter.widget-state+json": {
        "fd1b2476ba7942dd9793dd9d4d4bff69": {
          "model_module": "@jupyter-widgets/controls",
          "model_name": "HBoxModel",
          "model_module_version": "1.5.0",
          "state": {
            "_dom_classes": [],
            "_model_module": "@jupyter-widgets/controls",
            "_model_module_version": "1.5.0",
            "_model_name": "HBoxModel",
            "_view_count": null,
            "_view_module": "@jupyter-widgets/controls",
            "_view_module_version": "1.5.0",
            "_view_name": "HBoxView",
            "box_style": "",
            "children": [
              "IPY_MODEL_5e30c1655d954271b9182da1b966f2a1",
              "IPY_MODEL_7548257beb6445c7990adfbe27411a05",
              "IPY_MODEL_bae3c01ea47d4a74a6f97a17e5896a8a"
            ],
            "layout": "IPY_MODEL_08326d7e499041f681f249c3741bbfe0"
          }
        },
        "5e30c1655d954271b9182da1b966f2a1": {
          "model_module": "@jupyter-widgets/controls",
          "model_name": "HTMLModel",
          "model_module_version": "1.5.0",
          "state": {
            "_dom_classes": [],
            "_model_module": "@jupyter-widgets/controls",
            "_model_module_version": "1.5.0",
            "_model_name": "HTMLModel",
            "_view_count": null,
            "_view_module": "@jupyter-widgets/controls",
            "_view_module_version": "1.5.0",
            "_view_name": "HTMLView",
            "description": "",
            "description_tooltip": null,
            "layout": "IPY_MODEL_a1f989bbec0943048eeab23844ce7b49",
            "placeholder": "​",
            "style": "IPY_MODEL_3d6c4ae13bad4103b3d0ecd0180dfa9e",
            "value": "tokenizer_config.json: 100%"
          }
        },
        "7548257beb6445c7990adfbe27411a05": {
          "model_module": "@jupyter-widgets/controls",
          "model_name": "FloatProgressModel",
          "model_module_version": "1.5.0",
          "state": {
            "_dom_classes": [],
            "_model_module": "@jupyter-widgets/controls",
            "_model_module_version": "1.5.0",
            "_model_name": "FloatProgressModel",
            "_view_count": null,
            "_view_module": "@jupyter-widgets/controls",
            "_view_module_version": "1.5.0",
            "_view_name": "ProgressView",
            "bar_style": "success",
            "description": "",
            "description_tooltip": null,
            "layout": "IPY_MODEL_dbbbf4dcfb5a4e8885dc80b4b30e06bc",
            "max": 1460,
            "min": 0,
            "orientation": "horizontal",
            "style": "IPY_MODEL_76f7a2d3c8ef481983b26efb1e9ddc50",
            "value": 1460
          }
        },
        "bae3c01ea47d4a74a6f97a17e5896a8a": {
          "model_module": "@jupyter-widgets/controls",
          "model_name": "HTMLModel",
          "model_module_version": "1.5.0",
          "state": {
            "_dom_classes": [],
            "_model_module": "@jupyter-widgets/controls",
            "_model_module_version": "1.5.0",
            "_model_name": "HTMLModel",
            "_view_count": null,
            "_view_module": "@jupyter-widgets/controls",
            "_view_module_version": "1.5.0",
            "_view_name": "HTMLView",
            "description": "",
            "description_tooltip": null,
            "layout": "IPY_MODEL_2b3e76105e62432b8f9eefb4f7b5597d",
            "placeholder": "​",
            "style": "IPY_MODEL_1035c2129a0446d78b4b74c505590731",
            "value": " 1.46k/1.46k [00:00&lt;00:00, 71.0kB/s]"
          }
        },
        "08326d7e499041f681f249c3741bbfe0": {
          "model_module": "@jupyter-widgets/base",
          "model_name": "LayoutModel",
          "model_module_version": "1.2.0",
          "state": {
            "_model_module": "@jupyter-widgets/base",
            "_model_module_version": "1.2.0",
            "_model_name": "LayoutModel",
            "_view_count": null,
            "_view_module": "@jupyter-widgets/base",
            "_view_module_version": "1.2.0",
            "_view_name": "LayoutView",
            "align_content": null,
            "align_items": null,
            "align_self": null,
            "border": null,
            "bottom": null,
            "display": null,
            "flex": null,
            "flex_flow": null,
            "grid_area": null,
            "grid_auto_columns": null,
            "grid_auto_flow": null,
            "grid_auto_rows": null,
            "grid_column": null,
            "grid_gap": null,
            "grid_row": null,
            "grid_template_areas": null,
            "grid_template_columns": null,
            "grid_template_rows": null,
            "height": null,
            "justify_content": null,
            "justify_items": null,
            "left": null,
            "margin": null,
            "max_height": null,
            "max_width": null,
            "min_height": null,
            "min_width": null,
            "object_fit": null,
            "object_position": null,
            "order": null,
            "overflow": null,
            "overflow_x": null,
            "overflow_y": null,
            "padding": null,
            "right": null,
            "top": null,
            "visibility": null,
            "width": null
          }
        },
        "a1f989bbec0943048eeab23844ce7b49": {
          "model_module": "@jupyter-widgets/base",
          "model_name": "LayoutModel",
          "model_module_version": "1.2.0",
          "state": {
            "_model_module": "@jupyter-widgets/base",
            "_model_module_version": "1.2.0",
            "_model_name": "LayoutModel",
            "_view_count": null,
            "_view_module": "@jupyter-widgets/base",
            "_view_module_version": "1.2.0",
            "_view_name": "LayoutView",
            "align_content": null,
            "align_items": null,
            "align_self": null,
            "border": null,
            "bottom": null,
            "display": null,
            "flex": null,
            "flex_flow": null,
            "grid_area": null,
            "grid_auto_columns": null,
            "grid_auto_flow": null,
            "grid_auto_rows": null,
            "grid_column": null,
            "grid_gap": null,
            "grid_row": null,
            "grid_template_areas": null,
            "grid_template_columns": null,
            "grid_template_rows": null,
            "height": null,
            "justify_content": null,
            "justify_items": null,
            "left": null,
            "margin": null,
            "max_height": null,
            "max_width": null,
            "min_height": null,
            "min_width": null,
            "object_fit": null,
            "object_position": null,
            "order": null,
            "overflow": null,
            "overflow_x": null,
            "overflow_y": null,
            "padding": null,
            "right": null,
            "top": null,
            "visibility": null,
            "width": null
          }
        },
        "3d6c4ae13bad4103b3d0ecd0180dfa9e": {
          "model_module": "@jupyter-widgets/controls",
          "model_name": "DescriptionStyleModel",
          "model_module_version": "1.5.0",
          "state": {
            "_model_module": "@jupyter-widgets/controls",
            "_model_module_version": "1.5.0",
            "_model_name": "DescriptionStyleModel",
            "_view_count": null,
            "_view_module": "@jupyter-widgets/base",
            "_view_module_version": "1.2.0",
            "_view_name": "StyleView",
            "description_width": ""
          }
        },
        "dbbbf4dcfb5a4e8885dc80b4b30e06bc": {
          "model_module": "@jupyter-widgets/base",
          "model_name": "LayoutModel",
          "model_module_version": "1.2.0",
          "state": {
            "_model_module": "@jupyter-widgets/base",
            "_model_module_version": "1.2.0",
            "_model_name": "LayoutModel",
            "_view_count": null,
            "_view_module": "@jupyter-widgets/base",
            "_view_module_version": "1.2.0",
            "_view_name": "LayoutView",
            "align_content": null,
            "align_items": null,
            "align_self": null,
            "border": null,
            "bottom": null,
            "display": null,
            "flex": null,
            "flex_flow": null,
            "grid_area": null,
            "grid_auto_columns": null,
            "grid_auto_flow": null,
            "grid_auto_rows": null,
            "grid_column": null,
            "grid_gap": null,
            "grid_row": null,
            "grid_template_areas": null,
            "grid_template_columns": null,
            "grid_template_rows": null,
            "height": null,
            "justify_content": null,
            "justify_items": null,
            "left": null,
            "margin": null,
            "max_height": null,
            "max_width": null,
            "min_height": null,
            "min_width": null,
            "object_fit": null,
            "object_position": null,
            "order": null,
            "overflow": null,
            "overflow_x": null,
            "overflow_y": null,
            "padding": null,
            "right": null,
            "top": null,
            "visibility": null,
            "width": null
          }
        },
        "76f7a2d3c8ef481983b26efb1e9ddc50": {
          "model_module": "@jupyter-widgets/controls",
          "model_name": "ProgressStyleModel",
          "model_module_version": "1.5.0",
          "state": {
            "_model_module": "@jupyter-widgets/controls",
            "_model_module_version": "1.5.0",
            "_model_name": "ProgressStyleModel",
            "_view_count": null,
            "_view_module": "@jupyter-widgets/base",
            "_view_module_version": "1.2.0",
            "_view_name": "StyleView",
            "bar_color": null,
            "description_width": ""
          }
        },
        "2b3e76105e62432b8f9eefb4f7b5597d": {
          "model_module": "@jupyter-widgets/base",
          "model_name": "LayoutModel",
          "model_module_version": "1.2.0",
          "state": {
            "_model_module": "@jupyter-widgets/base",
            "_model_module_version": "1.2.0",
            "_model_name": "LayoutModel",
            "_view_count": null,
            "_view_module": "@jupyter-widgets/base",
            "_view_module_version": "1.2.0",
            "_view_name": "LayoutView",
            "align_content": null,
            "align_items": null,
            "align_self": null,
            "border": null,
            "bottom": null,
            "display": null,
            "flex": null,
            "flex_flow": null,
            "grid_area": null,
            "grid_auto_columns": null,
            "grid_auto_flow": null,
            "grid_auto_rows": null,
            "grid_column": null,
            "grid_gap": null,
            "grid_row": null,
            "grid_template_areas": null,
            "grid_template_columns": null,
            "grid_template_rows": null,
            "height": null,
            "justify_content": null,
            "justify_items": null,
            "left": null,
            "margin": null,
            "max_height": null,
            "max_width": null,
            "min_height": null,
            "min_width": null,
            "object_fit": null,
            "object_position": null,
            "order": null,
            "overflow": null,
            "overflow_x": null,
            "overflow_y": null,
            "padding": null,
            "right": null,
            "top": null,
            "visibility": null,
            "width": null
          }
        },
        "1035c2129a0446d78b4b74c505590731": {
          "model_module": "@jupyter-widgets/controls",
          "model_name": "DescriptionStyleModel",
          "model_module_version": "1.5.0",
          "state": {
            "_model_module": "@jupyter-widgets/controls",
            "_model_module_version": "1.5.0",
            "_model_name": "DescriptionStyleModel",
            "_view_count": null,
            "_view_module": "@jupyter-widgets/base",
            "_view_module_version": "1.2.0",
            "_view_name": "StyleView",
            "description_width": ""
          }
        },
        "1443ca60aa3043f4b518941289b74fab": {
          "model_module": "@jupyter-widgets/controls",
          "model_name": "HBoxModel",
          "model_module_version": "1.5.0",
          "state": {
            "_dom_classes": [],
            "_model_module": "@jupyter-widgets/controls",
            "_model_module_version": "1.5.0",
            "_model_name": "HBoxModel",
            "_view_count": null,
            "_view_module": "@jupyter-widgets/controls",
            "_view_module_version": "1.5.0",
            "_view_name": "HBoxView",
            "box_style": "",
            "children": [
              "IPY_MODEL_3b512cd7fb7f42d3ae5939453d555f01",
              "IPY_MODEL_0c38eb41a3464e7eb3689cf8d2ad2124",
              "IPY_MODEL_035b1fb7ae2143cda3de5b3c52593e2d"
            ],
            "layout": "IPY_MODEL_12fdead8fcc545f89c153a1b0a6e4ed9"
          }
        },
        "3b512cd7fb7f42d3ae5939453d555f01": {
          "model_module": "@jupyter-widgets/controls",
          "model_name": "HTMLModel",
          "model_module_version": "1.5.0",
          "state": {
            "_dom_classes": [],
            "_model_module": "@jupyter-widgets/controls",
            "_model_module_version": "1.5.0",
            "_model_name": "HTMLModel",
            "_view_count": null,
            "_view_module": "@jupyter-widgets/controls",
            "_view_module_version": "1.5.0",
            "_view_name": "HTMLView",
            "description": "",
            "description_tooltip": null,
            "layout": "IPY_MODEL_102c83ab8c1f4910bf25d0b9f05bed8d",
            "placeholder": "​",
            "style": "IPY_MODEL_65d169a0e29e4f88b7a2dbddc0adbc79",
            "value": "tokenizer.model: 100%"
          }
        },
        "0c38eb41a3464e7eb3689cf8d2ad2124": {
          "model_module": "@jupyter-widgets/controls",
          "model_name": "FloatProgressModel",
          "model_module_version": "1.5.0",
          "state": {
            "_dom_classes": [],
            "_model_module": "@jupyter-widgets/controls",
            "_model_module_version": "1.5.0",
            "_model_name": "FloatProgressModel",
            "_view_count": null,
            "_view_module": "@jupyter-widgets/controls",
            "_view_module_version": "1.5.0",
            "_view_name": "ProgressView",
            "bar_style": "success",
            "description": "",
            "description_tooltip": null,
            "layout": "IPY_MODEL_0e0e62371b6e42cc9111a5767762d590",
            "max": 493443,
            "min": 0,
            "orientation": "horizontal",
            "style": "IPY_MODEL_a79b4415f2e34ddfad8946c3d9137d20",
            "value": 493443
          }
        },
        "035b1fb7ae2143cda3de5b3c52593e2d": {
          "model_module": "@jupyter-widgets/controls",
          "model_name": "HTMLModel",
          "model_module_version": "1.5.0",
          "state": {
            "_dom_classes": [],
            "_model_module": "@jupyter-widgets/controls",
            "_model_module_version": "1.5.0",
            "_model_name": "HTMLModel",
            "_view_count": null,
            "_view_module": "@jupyter-widgets/controls",
            "_view_module_version": "1.5.0",
            "_view_name": "HTMLView",
            "description": "",
            "description_tooltip": null,
            "layout": "IPY_MODEL_bbf19f08de444d4db3e5be609a17954b",
            "placeholder": "​",
            "style": "IPY_MODEL_bf7e632a091e49eda392be7a81e7d7af",
            "value": " 493k/493k [00:00&lt;00:00, 3.84MB/s]"
          }
        },
        "12fdead8fcc545f89c153a1b0a6e4ed9": {
          "model_module": "@jupyter-widgets/base",
          "model_name": "LayoutModel",
          "model_module_version": "1.2.0",
          "state": {
            "_model_module": "@jupyter-widgets/base",
            "_model_module_version": "1.2.0",
            "_model_name": "LayoutModel",
            "_view_count": null,
            "_view_module": "@jupyter-widgets/base",
            "_view_module_version": "1.2.0",
            "_view_name": "LayoutView",
            "align_content": null,
            "align_items": null,
            "align_self": null,
            "border": null,
            "bottom": null,
            "display": null,
            "flex": null,
            "flex_flow": null,
            "grid_area": null,
            "grid_auto_columns": null,
            "grid_auto_flow": null,
            "grid_auto_rows": null,
            "grid_column": null,
            "grid_gap": null,
            "grid_row": null,
            "grid_template_areas": null,
            "grid_template_columns": null,
            "grid_template_rows": null,
            "height": null,
            "justify_content": null,
            "justify_items": null,
            "left": null,
            "margin": null,
            "max_height": null,
            "max_width": null,
            "min_height": null,
            "min_width": null,
            "object_fit": null,
            "object_position": null,
            "order": null,
            "overflow": null,
            "overflow_x": null,
            "overflow_y": null,
            "padding": null,
            "right": null,
            "top": null,
            "visibility": null,
            "width": null
          }
        },
        "102c83ab8c1f4910bf25d0b9f05bed8d": {
          "model_module": "@jupyter-widgets/base",
          "model_name": "LayoutModel",
          "model_module_version": "1.2.0",
          "state": {
            "_model_module": "@jupyter-widgets/base",
            "_model_module_version": "1.2.0",
            "_model_name": "LayoutModel",
            "_view_count": null,
            "_view_module": "@jupyter-widgets/base",
            "_view_module_version": "1.2.0",
            "_view_name": "LayoutView",
            "align_content": null,
            "align_items": null,
            "align_self": null,
            "border": null,
            "bottom": null,
            "display": null,
            "flex": null,
            "flex_flow": null,
            "grid_area": null,
            "grid_auto_columns": null,
            "grid_auto_flow": null,
            "grid_auto_rows": null,
            "grid_column": null,
            "grid_gap": null,
            "grid_row": null,
            "grid_template_areas": null,
            "grid_template_columns": null,
            "grid_template_rows": null,
            "height": null,
            "justify_content": null,
            "justify_items": null,
            "left": null,
            "margin": null,
            "max_height": null,
            "max_width": null,
            "min_height": null,
            "min_width": null,
            "object_fit": null,
            "object_position": null,
            "order": null,
            "overflow": null,
            "overflow_x": null,
            "overflow_y": null,
            "padding": null,
            "right": null,
            "top": null,
            "visibility": null,
            "width": null
          }
        },
        "65d169a0e29e4f88b7a2dbddc0adbc79": {
          "model_module": "@jupyter-widgets/controls",
          "model_name": "DescriptionStyleModel",
          "model_module_version": "1.5.0",
          "state": {
            "_model_module": "@jupyter-widgets/controls",
            "_model_module_version": "1.5.0",
            "_model_name": "DescriptionStyleModel",
            "_view_count": null,
            "_view_module": "@jupyter-widgets/base",
            "_view_module_version": "1.2.0",
            "_view_name": "StyleView",
            "description_width": ""
          }
        },
        "0e0e62371b6e42cc9111a5767762d590": {
          "model_module": "@jupyter-widgets/base",
          "model_name": "LayoutModel",
          "model_module_version": "1.2.0",
          "state": {
            "_model_module": "@jupyter-widgets/base",
            "_model_module_version": "1.2.0",
            "_model_name": "LayoutModel",
            "_view_count": null,
            "_view_module": "@jupyter-widgets/base",
            "_view_module_version": "1.2.0",
            "_view_name": "LayoutView",
            "align_content": null,
            "align_items": null,
            "align_self": null,
            "border": null,
            "bottom": null,
            "display": null,
            "flex": null,
            "flex_flow": null,
            "grid_area": null,
            "grid_auto_columns": null,
            "grid_auto_flow": null,
            "grid_auto_rows": null,
            "grid_column": null,
            "grid_gap": null,
            "grid_row": null,
            "grid_template_areas": null,
            "grid_template_columns": null,
            "grid_template_rows": null,
            "height": null,
            "justify_content": null,
            "justify_items": null,
            "left": null,
            "margin": null,
            "max_height": null,
            "max_width": null,
            "min_height": null,
            "min_width": null,
            "object_fit": null,
            "object_position": null,
            "order": null,
            "overflow": null,
            "overflow_x": null,
            "overflow_y": null,
            "padding": null,
            "right": null,
            "top": null,
            "visibility": null,
            "width": null
          }
        },
        "a79b4415f2e34ddfad8946c3d9137d20": {
          "model_module": "@jupyter-widgets/controls",
          "model_name": "ProgressStyleModel",
          "model_module_version": "1.5.0",
          "state": {
            "_model_module": "@jupyter-widgets/controls",
            "_model_module_version": "1.5.0",
            "_model_name": "ProgressStyleModel",
            "_view_count": null,
            "_view_module": "@jupyter-widgets/base",
            "_view_module_version": "1.2.0",
            "_view_name": "StyleView",
            "bar_color": null,
            "description_width": ""
          }
        },
        "bbf19f08de444d4db3e5be609a17954b": {
          "model_module": "@jupyter-widgets/base",
          "model_name": "LayoutModel",
          "model_module_version": "1.2.0",
          "state": {
            "_model_module": "@jupyter-widgets/base",
            "_model_module_version": "1.2.0",
            "_model_name": "LayoutModel",
            "_view_count": null,
            "_view_module": "@jupyter-widgets/base",
            "_view_module_version": "1.2.0",
            "_view_name": "LayoutView",
            "align_content": null,
            "align_items": null,
            "align_self": null,
            "border": null,
            "bottom": null,
            "display": null,
            "flex": null,
            "flex_flow": null,
            "grid_area": null,
            "grid_auto_columns": null,
            "grid_auto_flow": null,
            "grid_auto_rows": null,
            "grid_column": null,
            "grid_gap": null,
            "grid_row": null,
            "grid_template_areas": null,
            "grid_template_columns": null,
            "grid_template_rows": null,
            "height": null,
            "justify_content": null,
            "justify_items": null,
            "left": null,
            "margin": null,
            "max_height": null,
            "max_width": null,
            "min_height": null,
            "min_width": null,
            "object_fit": null,
            "object_position": null,
            "order": null,
            "overflow": null,
            "overflow_x": null,
            "overflow_y": null,
            "padding": null,
            "right": null,
            "top": null,
            "visibility": null,
            "width": null
          }
        },
        "bf7e632a091e49eda392be7a81e7d7af": {
          "model_module": "@jupyter-widgets/controls",
          "model_name": "DescriptionStyleModel",
          "model_module_version": "1.5.0",
          "state": {
            "_model_module": "@jupyter-widgets/controls",
            "_model_module_version": "1.5.0",
            "_model_name": "DescriptionStyleModel",
            "_view_count": null,
            "_view_module": "@jupyter-widgets/base",
            "_view_module_version": "1.2.0",
            "_view_name": "StyleView",
            "description_width": ""
          }
        },
        "64df40b963ca4d6bb7015a893960cfb2": {
          "model_module": "@jupyter-widgets/controls",
          "model_name": "HBoxModel",
          "model_module_version": "1.5.0",
          "state": {
            "_dom_classes": [],
            "_model_module": "@jupyter-widgets/controls",
            "_model_module_version": "1.5.0",
            "_model_name": "HBoxModel",
            "_view_count": null,
            "_view_module": "@jupyter-widgets/controls",
            "_view_module_version": "1.5.0",
            "_view_name": "HBoxView",
            "box_style": "",
            "children": [
              "IPY_MODEL_138bb5205bec4d629f57016ac86a29c7",
              "IPY_MODEL_fdcc5db306c249f3b2beea0e7d3ad695",
              "IPY_MODEL_044c6e3baf1b4a1aaf391911ee0ac20f"
            ],
            "layout": "IPY_MODEL_f7b20bba9462466f982721a4c6375662"
          }
        },
        "138bb5205bec4d629f57016ac86a29c7": {
          "model_module": "@jupyter-widgets/controls",
          "model_name": "HTMLModel",
          "model_module_version": "1.5.0",
          "state": {
            "_dom_classes": [],
            "_model_module": "@jupyter-widgets/controls",
            "_model_module_version": "1.5.0",
            "_model_name": "HTMLModel",
            "_view_count": null,
            "_view_module": "@jupyter-widgets/controls",
            "_view_module_version": "1.5.0",
            "_view_name": "HTMLView",
            "description": "",
            "description_tooltip": null,
            "layout": "IPY_MODEL_9cf9a091b31e4425ace08ef47361daf9",
            "placeholder": "​",
            "style": "IPY_MODEL_131ae81a70b245ada8580df7270364f3",
            "value": "tokenizer.json: 100%"
          }
        },
        "fdcc5db306c249f3b2beea0e7d3ad695": {
          "model_module": "@jupyter-widgets/controls",
          "model_name": "FloatProgressModel",
          "model_module_version": "1.5.0",
          "state": {
            "_dom_classes": [],
            "_model_module": "@jupyter-widgets/controls",
            "_model_module_version": "1.5.0",
            "_model_name": "FloatProgressModel",
            "_view_count": null,
            "_view_module": "@jupyter-widgets/controls",
            "_view_module_version": "1.5.0",
            "_view_name": "ProgressView",
            "bar_style": "success",
            "description": "",
            "description_tooltip": null,
            "layout": "IPY_MODEL_52c3d3dfc9ea4df4b20cf2416475d38b",
            "max": 1795303,
            "min": 0,
            "orientation": "horizontal",
            "style": "IPY_MODEL_e6654aa1a01347c78a1814d5e7ff562d",
            "value": 1795303
          }
        },
        "044c6e3baf1b4a1aaf391911ee0ac20f": {
          "model_module": "@jupyter-widgets/controls",
          "model_name": "HTMLModel",
          "model_module_version": "1.5.0",
          "state": {
            "_dom_classes": [],
            "_model_module": "@jupyter-widgets/controls",
            "_model_module_version": "1.5.0",
            "_model_name": "HTMLModel",
            "_view_count": null,
            "_view_module": "@jupyter-widgets/controls",
            "_view_module_version": "1.5.0",
            "_view_name": "HTMLView",
            "description": "",
            "description_tooltip": null,
            "layout": "IPY_MODEL_082acf11e1fe4884a3a348f338945317",
            "placeholder": "​",
            "style": "IPY_MODEL_62e8e811a2784efbb2f49aaa78851fbf",
            "value": " 1.80M/1.80M [00:00&lt;00:00, 6.75MB/s]"
          }
        },
        "f7b20bba9462466f982721a4c6375662": {
          "model_module": "@jupyter-widgets/base",
          "model_name": "LayoutModel",
          "model_module_version": "1.2.0",
          "state": {
            "_model_module": "@jupyter-widgets/base",
            "_model_module_version": "1.2.0",
            "_model_name": "LayoutModel",
            "_view_count": null,
            "_view_module": "@jupyter-widgets/base",
            "_view_module_version": "1.2.0",
            "_view_name": "LayoutView",
            "align_content": null,
            "align_items": null,
            "align_self": null,
            "border": null,
            "bottom": null,
            "display": null,
            "flex": null,
            "flex_flow": null,
            "grid_area": null,
            "grid_auto_columns": null,
            "grid_auto_flow": null,
            "grid_auto_rows": null,
            "grid_column": null,
            "grid_gap": null,
            "grid_row": null,
            "grid_template_areas": null,
            "grid_template_columns": null,
            "grid_template_rows": null,
            "height": null,
            "justify_content": null,
            "justify_items": null,
            "left": null,
            "margin": null,
            "max_height": null,
            "max_width": null,
            "min_height": null,
            "min_width": null,
            "object_fit": null,
            "object_position": null,
            "order": null,
            "overflow": null,
            "overflow_x": null,
            "overflow_y": null,
            "padding": null,
            "right": null,
            "top": null,
            "visibility": null,
            "width": null
          }
        },
        "9cf9a091b31e4425ace08ef47361daf9": {
          "model_module": "@jupyter-widgets/base",
          "model_name": "LayoutModel",
          "model_module_version": "1.2.0",
          "state": {
            "_model_module": "@jupyter-widgets/base",
            "_model_module_version": "1.2.0",
            "_model_name": "LayoutModel",
            "_view_count": null,
            "_view_module": "@jupyter-widgets/base",
            "_view_module_version": "1.2.0",
            "_view_name": "LayoutView",
            "align_content": null,
            "align_items": null,
            "align_self": null,
            "border": null,
            "bottom": null,
            "display": null,
            "flex": null,
            "flex_flow": null,
            "grid_area": null,
            "grid_auto_columns": null,
            "grid_auto_flow": null,
            "grid_auto_rows": null,
            "grid_column": null,
            "grid_gap": null,
            "grid_row": null,
            "grid_template_areas": null,
            "grid_template_columns": null,
            "grid_template_rows": null,
            "height": null,
            "justify_content": null,
            "justify_items": null,
            "left": null,
            "margin": null,
            "max_height": null,
            "max_width": null,
            "min_height": null,
            "min_width": null,
            "object_fit": null,
            "object_position": null,
            "order": null,
            "overflow": null,
            "overflow_x": null,
            "overflow_y": null,
            "padding": null,
            "right": null,
            "top": null,
            "visibility": null,
            "width": null
          }
        },
        "131ae81a70b245ada8580df7270364f3": {
          "model_module": "@jupyter-widgets/controls",
          "model_name": "DescriptionStyleModel",
          "model_module_version": "1.5.0",
          "state": {
            "_model_module": "@jupyter-widgets/controls",
            "_model_module_version": "1.5.0",
            "_model_name": "DescriptionStyleModel",
            "_view_count": null,
            "_view_module": "@jupyter-widgets/base",
            "_view_module_version": "1.2.0",
            "_view_name": "StyleView",
            "description_width": ""
          }
        },
        "52c3d3dfc9ea4df4b20cf2416475d38b": {
          "model_module": "@jupyter-widgets/base",
          "model_name": "LayoutModel",
          "model_module_version": "1.2.0",
          "state": {
            "_model_module": "@jupyter-widgets/base",
            "_model_module_version": "1.2.0",
            "_model_name": "LayoutModel",
            "_view_count": null,
            "_view_module": "@jupyter-widgets/base",
            "_view_module_version": "1.2.0",
            "_view_name": "LayoutView",
            "align_content": null,
            "align_items": null,
            "align_self": null,
            "border": null,
            "bottom": null,
            "display": null,
            "flex": null,
            "flex_flow": null,
            "grid_area": null,
            "grid_auto_columns": null,
            "grid_auto_flow": null,
            "grid_auto_rows": null,
            "grid_column": null,
            "grid_gap": null,
            "grid_row": null,
            "grid_template_areas": null,
            "grid_template_columns": null,
            "grid_template_rows": null,
            "height": null,
            "justify_content": null,
            "justify_items": null,
            "left": null,
            "margin": null,
            "max_height": null,
            "max_width": null,
            "min_height": null,
            "min_width": null,
            "object_fit": null,
            "object_position": null,
            "order": null,
            "overflow": null,
            "overflow_x": null,
            "overflow_y": null,
            "padding": null,
            "right": null,
            "top": null,
            "visibility": null,
            "width": null
          }
        },
        "e6654aa1a01347c78a1814d5e7ff562d": {
          "model_module": "@jupyter-widgets/controls",
          "model_name": "ProgressStyleModel",
          "model_module_version": "1.5.0",
          "state": {
            "_model_module": "@jupyter-widgets/controls",
            "_model_module_version": "1.5.0",
            "_model_name": "ProgressStyleModel",
            "_view_count": null,
            "_view_module": "@jupyter-widgets/base",
            "_view_module_version": "1.2.0",
            "_view_name": "StyleView",
            "bar_color": null,
            "description_width": ""
          }
        },
        "082acf11e1fe4884a3a348f338945317": {
          "model_module": "@jupyter-widgets/base",
          "model_name": "LayoutModel",
          "model_module_version": "1.2.0",
          "state": {
            "_model_module": "@jupyter-widgets/base",
            "_model_module_version": "1.2.0",
            "_model_name": "LayoutModel",
            "_view_count": null,
            "_view_module": "@jupyter-widgets/base",
            "_view_module_version": "1.2.0",
            "_view_name": "LayoutView",
            "align_content": null,
            "align_items": null,
            "align_self": null,
            "border": null,
            "bottom": null,
            "display": null,
            "flex": null,
            "flex_flow": null,
            "grid_area": null,
            "grid_auto_columns": null,
            "grid_auto_flow": null,
            "grid_auto_rows": null,
            "grid_column": null,
            "grid_gap": null,
            "grid_row": null,
            "grid_template_areas": null,
            "grid_template_columns": null,
            "grid_template_rows": null,
            "height": null,
            "justify_content": null,
            "justify_items": null,
            "left": null,
            "margin": null,
            "max_height": null,
            "max_width": null,
            "min_height": null,
            "min_width": null,
            "object_fit": null,
            "object_position": null,
            "order": null,
            "overflow": null,
            "overflow_x": null,
            "overflow_y": null,
            "padding": null,
            "right": null,
            "top": null,
            "visibility": null,
            "width": null
          }
        },
        "62e8e811a2784efbb2f49aaa78851fbf": {
          "model_module": "@jupyter-widgets/controls",
          "model_name": "DescriptionStyleModel",
          "model_module_version": "1.5.0",
          "state": {
            "_model_module": "@jupyter-widgets/controls",
            "_model_module_version": "1.5.0",
            "_model_name": "DescriptionStyleModel",
            "_view_count": null,
            "_view_module": "@jupyter-widgets/base",
            "_view_module_version": "1.2.0",
            "_view_name": "StyleView",
            "description_width": ""
          }
        },
        "51f9f597ce0b4cc99ab5d3c8efb523e3": {
          "model_module": "@jupyter-widgets/controls",
          "model_name": "HBoxModel",
          "model_module_version": "1.5.0",
          "state": {
            "_dom_classes": [],
            "_model_module": "@jupyter-widgets/controls",
            "_model_module_version": "1.5.0",
            "_model_name": "HBoxModel",
            "_view_count": null,
            "_view_module": "@jupyter-widgets/controls",
            "_view_module_version": "1.5.0",
            "_view_name": "HBoxView",
            "box_style": "",
            "children": [
              "IPY_MODEL_9a224545b8cb4df18f9cdf8bb35ab02f",
              "IPY_MODEL_3821721c8624448480d00a9064e83a11",
              "IPY_MODEL_3c7a8432b7ba4927a0282a9490c7f6ed"
            ],
            "layout": "IPY_MODEL_00d93c141611406c9116c3d1cda1d23f"
          }
        },
        "9a224545b8cb4df18f9cdf8bb35ab02f": {
          "model_module": "@jupyter-widgets/controls",
          "model_name": "HTMLModel",
          "model_module_version": "1.5.0",
          "state": {
            "_dom_classes": [],
            "_model_module": "@jupyter-widgets/controls",
            "_model_module_version": "1.5.0",
            "_model_name": "HTMLModel",
            "_view_count": null,
            "_view_module": "@jupyter-widgets/controls",
            "_view_module_version": "1.5.0",
            "_view_name": "HTMLView",
            "description": "",
            "description_tooltip": null,
            "layout": "IPY_MODEL_18a322baca244c8abc867993a685725f",
            "placeholder": "​",
            "style": "IPY_MODEL_bf71f26e908b43c380c045d9661f7d4a",
            "value": "special_tokens_map.json: 100%"
          }
        },
        "3821721c8624448480d00a9064e83a11": {
          "model_module": "@jupyter-widgets/controls",
          "model_name": "FloatProgressModel",
          "model_module_version": "1.5.0",
          "state": {
            "_dom_classes": [],
            "_model_module": "@jupyter-widgets/controls",
            "_model_module_version": "1.5.0",
            "_model_name": "FloatProgressModel",
            "_view_count": null,
            "_view_module": "@jupyter-widgets/controls",
            "_view_module_version": "1.5.0",
            "_view_name": "ProgressView",
            "bar_style": "success",
            "description": "",
            "description_tooltip": null,
            "layout": "IPY_MODEL_2a4a9afc3e824b41b1787dd0f4663005",
            "max": 72,
            "min": 0,
            "orientation": "horizontal",
            "style": "IPY_MODEL_a6538aeff8804ac28e500c2dba72d345",
            "value": 72
          }
        },
        "3c7a8432b7ba4927a0282a9490c7f6ed": {
          "model_module": "@jupyter-widgets/controls",
          "model_name": "HTMLModel",
          "model_module_version": "1.5.0",
          "state": {
            "_dom_classes": [],
            "_model_module": "@jupyter-widgets/controls",
            "_model_module_version": "1.5.0",
            "_model_name": "HTMLModel",
            "_view_count": null,
            "_view_module": "@jupyter-widgets/controls",
            "_view_module_version": "1.5.0",
            "_view_name": "HTMLView",
            "description": "",
            "description_tooltip": null,
            "layout": "IPY_MODEL_c64aa3120bd8459781974616df7ca5bb",
            "placeholder": "​",
            "style": "IPY_MODEL_802a0802cd0e4f3bb984319b9b4744ad",
            "value": " 72.0/72.0 [00:00&lt;00:00, 5.49kB/s]"
          }
        },
        "00d93c141611406c9116c3d1cda1d23f": {
          "model_module": "@jupyter-widgets/base",
          "model_name": "LayoutModel",
          "model_module_version": "1.2.0",
          "state": {
            "_model_module": "@jupyter-widgets/base",
            "_model_module_version": "1.2.0",
            "_model_name": "LayoutModel",
            "_view_count": null,
            "_view_module": "@jupyter-widgets/base",
            "_view_module_version": "1.2.0",
            "_view_name": "LayoutView",
            "align_content": null,
            "align_items": null,
            "align_self": null,
            "border": null,
            "bottom": null,
            "display": null,
            "flex": null,
            "flex_flow": null,
            "grid_area": null,
            "grid_auto_columns": null,
            "grid_auto_flow": null,
            "grid_auto_rows": null,
            "grid_column": null,
            "grid_gap": null,
            "grid_row": null,
            "grid_template_areas": null,
            "grid_template_columns": null,
            "grid_template_rows": null,
            "height": null,
            "justify_content": null,
            "justify_items": null,
            "left": null,
            "margin": null,
            "max_height": null,
            "max_width": null,
            "min_height": null,
            "min_width": null,
            "object_fit": null,
            "object_position": null,
            "order": null,
            "overflow": null,
            "overflow_x": null,
            "overflow_y": null,
            "padding": null,
            "right": null,
            "top": null,
            "visibility": null,
            "width": null
          }
        },
        "18a322baca244c8abc867993a685725f": {
          "model_module": "@jupyter-widgets/base",
          "model_name": "LayoutModel",
          "model_module_version": "1.2.0",
          "state": {
            "_model_module": "@jupyter-widgets/base",
            "_model_module_version": "1.2.0",
            "_model_name": "LayoutModel",
            "_view_count": null,
            "_view_module": "@jupyter-widgets/base",
            "_view_module_version": "1.2.0",
            "_view_name": "LayoutView",
            "align_content": null,
            "align_items": null,
            "align_self": null,
            "border": null,
            "bottom": null,
            "display": null,
            "flex": null,
            "flex_flow": null,
            "grid_area": null,
            "grid_auto_columns": null,
            "grid_auto_flow": null,
            "grid_auto_rows": null,
            "grid_column": null,
            "grid_gap": null,
            "grid_row": null,
            "grid_template_areas": null,
            "grid_template_columns": null,
            "grid_template_rows": null,
            "height": null,
            "justify_content": null,
            "justify_items": null,
            "left": null,
            "margin": null,
            "max_height": null,
            "max_width": null,
            "min_height": null,
            "min_width": null,
            "object_fit": null,
            "object_position": null,
            "order": null,
            "overflow": null,
            "overflow_x": null,
            "overflow_y": null,
            "padding": null,
            "right": null,
            "top": null,
            "visibility": null,
            "width": null
          }
        },
        "bf71f26e908b43c380c045d9661f7d4a": {
          "model_module": "@jupyter-widgets/controls",
          "model_name": "DescriptionStyleModel",
          "model_module_version": "1.5.0",
          "state": {
            "_model_module": "@jupyter-widgets/controls",
            "_model_module_version": "1.5.0",
            "_model_name": "DescriptionStyleModel",
            "_view_count": null,
            "_view_module": "@jupyter-widgets/base",
            "_view_module_version": "1.2.0",
            "_view_name": "StyleView",
            "description_width": ""
          }
        },
        "2a4a9afc3e824b41b1787dd0f4663005": {
          "model_module": "@jupyter-widgets/base",
          "model_name": "LayoutModel",
          "model_module_version": "1.2.0",
          "state": {
            "_model_module": "@jupyter-widgets/base",
            "_model_module_version": "1.2.0",
            "_model_name": "LayoutModel",
            "_view_count": null,
            "_view_module": "@jupyter-widgets/base",
            "_view_module_version": "1.2.0",
            "_view_name": "LayoutView",
            "align_content": null,
            "align_items": null,
            "align_self": null,
            "border": null,
            "bottom": null,
            "display": null,
            "flex": null,
            "flex_flow": null,
            "grid_area": null,
            "grid_auto_columns": null,
            "grid_auto_flow": null,
            "grid_auto_rows": null,
            "grid_column": null,
            "grid_gap": null,
            "grid_row": null,
            "grid_template_areas": null,
            "grid_template_columns": null,
            "grid_template_rows": null,
            "height": null,
            "justify_content": null,
            "justify_items": null,
            "left": null,
            "margin": null,
            "max_height": null,
            "max_width": null,
            "min_height": null,
            "min_width": null,
            "object_fit": null,
            "object_position": null,
            "order": null,
            "overflow": null,
            "overflow_x": null,
            "overflow_y": null,
            "padding": null,
            "right": null,
            "top": null,
            "visibility": null,
            "width": null
          }
        },
        "a6538aeff8804ac28e500c2dba72d345": {
          "model_module": "@jupyter-widgets/controls",
          "model_name": "ProgressStyleModel",
          "model_module_version": "1.5.0",
          "state": {
            "_model_module": "@jupyter-widgets/controls",
            "_model_module_version": "1.5.0",
            "_model_name": "ProgressStyleModel",
            "_view_count": null,
            "_view_module": "@jupyter-widgets/base",
            "_view_module_version": "1.2.0",
            "_view_name": "StyleView",
            "bar_color": null,
            "description_width": ""
          }
        },
        "c64aa3120bd8459781974616df7ca5bb": {
          "model_module": "@jupyter-widgets/base",
          "model_name": "LayoutModel",
          "model_module_version": "1.2.0",
          "state": {
            "_model_module": "@jupyter-widgets/base",
            "_model_module_version": "1.2.0",
            "_model_name": "LayoutModel",
            "_view_count": null,
            "_view_module": "@jupyter-widgets/base",
            "_view_module_version": "1.2.0",
            "_view_name": "LayoutView",
            "align_content": null,
            "align_items": null,
            "align_self": null,
            "border": null,
            "bottom": null,
            "display": null,
            "flex": null,
            "flex_flow": null,
            "grid_area": null,
            "grid_auto_columns": null,
            "grid_auto_flow": null,
            "grid_auto_rows": null,
            "grid_column": null,
            "grid_gap": null,
            "grid_row": null,
            "grid_template_areas": null,
            "grid_template_columns": null,
            "grid_template_rows": null,
            "height": null,
            "justify_content": null,
            "justify_items": null,
            "left": null,
            "margin": null,
            "max_height": null,
            "max_width": null,
            "min_height": null,
            "min_width": null,
            "object_fit": null,
            "object_position": null,
            "order": null,
            "overflow": null,
            "overflow_x": null,
            "overflow_y": null,
            "padding": null,
            "right": null,
            "top": null,
            "visibility": null,
            "width": null
          }
        },
        "802a0802cd0e4f3bb984319b9b4744ad": {
          "model_module": "@jupyter-widgets/controls",
          "model_name": "DescriptionStyleModel",
          "model_module_version": "1.5.0",
          "state": {
            "_model_module": "@jupyter-widgets/controls",
            "_model_module_version": "1.5.0",
            "_model_name": "DescriptionStyleModel",
            "_view_count": null,
            "_view_module": "@jupyter-widgets/base",
            "_view_module_version": "1.2.0",
            "_view_name": "StyleView",
            "description_width": ""
          }
        }
      }
    }
  },
  "nbformat": 4,
  "nbformat_minor": 0
}